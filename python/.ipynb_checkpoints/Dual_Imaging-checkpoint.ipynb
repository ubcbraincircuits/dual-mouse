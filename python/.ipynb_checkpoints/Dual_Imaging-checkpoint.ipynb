{
 "cells": [
  {
   "cell_type": "code",
   "execution_count": 76,
   "metadata": {},
   "outputs": [],
   "source": [
    "%reload_ext autoreload\n",
    "\n",
    "%autoreload 2\n",
    "import video_processing as vp\n",
    "import librain as lb\n",
    "import fnames\n",
    "import numpy as np\n",
    "from roipoly import RoiPoly \n",
    "import matplotlib.pyplot as plt\n",
    "\n",
    "\n",
    "import warnings\n",
    "import imreg_dft as ird\n",
    "warnings.filterwarnings('ignore')\n"
   ]
  },
  {
   "cell_type": "markdown",
   "metadata": {},
   "source": [
    "## Constants"
   ]
  },
  {
   "cell_type": "code",
   "execution_count": 77,
   "metadata": {},
   "outputs": [],
   "source": [
    "WIDTH = 256\n",
    "HEIGHT = 256\n",
    "TRUE_FRAMERATE = 28.815\n",
    "BEHAVIOUR_FRAMERATE = 90# 1/(11090.9/1e6)\n"
   ]
  },
  {
   "cell_type": "markdown",
   "metadata": {},
   "source": [
    "## File paths"
   ]
  },
  {
   "cell_type": "code",
   "execution_count": 78,
   "metadata": {},
   "outputs": [],
   "source": [
    "path = \"B:/Dual/\" # location of \"date\" folders\n",
    "\n",
    "direc = lb.Data(path)\n",
    "\n",
    "date = \"20190729\"\n",
    "\n",
    "experiment = \"Experiment_1\"\n",
    "\n",
    "# help(direc.experiment)\n",
    "\n",
    "EXP_3 = direc.experiment(date, exp_num=1)\n",
    "\n",
    "# help(direc.file)\n",
    "\n",
    "l_mouse = direc.file(exp_folder=EXP_3, fname=\"left\")\n",
    "\n",
    "# try: print(fnames.fnames.get(\"left\")) to see an example of a file that would correspond to fname=\"left\" in direc.file\n",
    "\n",
    "r_mouse = direc.file(exp_folder=EXP_3, fname=\"right\")\n",
    "\n",
    "l_mouse_timestamps_raw = direc.file(\n",
    "    exp_folder=EXP_3, fname=\"left timestamps\"\n",
    ")\n",
    "\n",
    "r_mouse_timestamps_raw = direc.file(\n",
    "    exp_folder=EXP_3, fname=\"right timestamps\"\n",
    ")\n",
    "\n",
    "res = lb.Output(EXP_3) # root directory where processed files will be saved\n",
    "\n",
    "filename = direc.file(\n",
    "    exp_folder=EXP_3, fname=\"h264\", subfolder=\"Behaviour\"\n",
    ")\n",
    "\n",
    "b_file = direc.file(\n",
    "    exp_folder=EXP_3, fname=\"timestamps\", subfolder=\"Behaviour\"\n",
    ")\n"
   ]
  },
  {
   "cell_type": "code",
   "execution_count": 79,
   "metadata": {},
   "outputs": [
    {
     "name": "stdout",
     "output_type": "stream",
     "text": [
      "B:\\Dual\\20190729\\Experiment_1\\MM004L-s_M003R-m_July-29_1430_experiment-1_DK.raw\n",
      "B:\\Dual\\20190729\\Experiment_1\\MM003R-m_M004L-s_July-29_1428_experiment-1_DK_timestamps.raw\n"
     ]
    }
   ],
   "source": [
    "print(l_mouse)\n",
    "print(r_mouse_timestamps_raw)"
   ]
  },
  {
   "cell_type": "markdown",
   "metadata": {},
   "source": [
    "## Extract the color channels from the RAW files"
   ]
  },
  {
   "cell_type": "code",
   "execution_count": 80,
   "metadata": {},
   "outputs": [
    {
     "name": "stdout",
     "output_type": "stream",
     "text": [
      "12084.0\n",
      "12074.0\n",
      "12084.0\n",
      "12074.0\n"
     ]
    }
   ],
   "source": [
    "l_mouse_green_frames = vp.extract_RAW_frames(\n",
    "    filename=l_mouse,\n",
    "    channel='green',\n",
    "    width=WIDTH,\n",
    "    height=HEIGHT\n",
    ")\n",
    "\n",
    "\n",
    "frame_left = l_mouse_green_frames[1000,:,:]\n",
    "\n",
    "r_mouse_green_frames = vp.extract_RAW_frames(\n",
    "    filename=r_mouse,\n",
    "    channel='green',\n",
    "    width=WIDTH,\n",
    "    height=HEIGHT\n",
    ")\n",
    "\n",
    "frame_right = r_mouse_green_frames[1000,:,:]\n",
    "\n",
    "l_mouse_blue_frames = vp.extract_RAW_frames(\n",
    "    filename=l_mouse,\n",
    "    channel='blue',\n",
    "    width=WIDTH,\n",
    "    height=HEIGHT\n",
    ")\n",
    "\n",
    "r_mouse_blue_frames = vp.extract_RAW_frames(\n",
    "    filename=r_mouse,\n",
    "    channel='blue',\n",
    "    width=WIDTH,\n",
    "    height=HEIGHT\n",
    ")\n",
    "\n",
    "# l_mouse_red_frames = vp.extract_RAW_frames(\n",
    "#     filename=l_mouse,\n",
    "#     channel='red',\n",
    "#     width=WIDTH,\n",
    "#     height=HEIGHT\n",
    "# )\n",
    "\n",
    "# r_mouse_red_frames = vp.extract_RAW_frames(\n",
    "#     filename=r_mouse,\n",
    "#     channel='red',\n",
    "#     width=WIDTH,\n",
    "#     height=HEIGHT\n",
    "# )"
   ]
  },
  {
   "cell_type": "markdown",
   "metadata": {},
   "source": [
    "### Import RAW timestamps and clean the data"
   ]
  },
  {
   "cell_type": "code",
   "execution_count": 81,
   "metadata": {},
   "outputs": [
    {
     "name": "stdout",
     "output_type": "stream",
     "text": [
      "(12084,)\n",
      "(12074,)\n",
      "(12606,)\n"
     ]
    },
    {
     "data": {
      "text/plain": [
       "[<matplotlib.lines.Line2D at 0x8f4e424e10>]"
      ]
     },
     "execution_count": 81,
     "metadata": {},
     "output_type": "execute_result"
    }
   ],
   "source": [
    "l_mouse_timestamps = vp.clean_raw_timestamps(l_mouse_timestamps_raw)\n",
    "r_mouse_timestamps = vp.clean_raw_timestamps(r_mouse_timestamps_raw)\n",
    "b_timestamps = vp.clean_raw_timestamps(b_file)\n",
    "\n",
    "print(l_mouse_timestamps.shape), print(r_mouse_timestamps.shape)\n",
    "print(b_timestamps.shape)\n",
    "\n",
    "plt.figure()\n",
    "plt.plot(l_mouse_timestamps)\n",
    "plt.plot(b_timestamps)"
   ]
  },
  {
   "cell_type": "code",
   "execution_count": 7,
   "metadata": {},
   "outputs": [
    {
     "name": "stdout",
     "output_type": "stream",
     "text": [
      "(12095,)\n",
      "(12090,)\n",
      "(12605,)\n",
      "Saved as LEFT_RAW_GREEN_FRAME.npy\n",
      "Saved as RIGHT_RAW_GREEN_FRAME.npy\n"
     ]
    }
   ],
   "source": [
    "print(l_mouse_timestamps.shape), print(r_mouse_timestamps.shape)\n",
    "print(b_timestamps.shape)\n",
    "\n",
    "l_green_frame = res.saveas(\n",
    "    f_out=l_mouse_green_frames[1000],\n",
    "    suffix=\"LEFT_RAW_GREEN_FRAME\",\n",
    "    path=EXP_3,\n",
    "    ftype=\"npy\",\n",
    "    save=True,\n",
    ")\n",
    "\n",
    "r_green_frame = res.saveas(\n",
    "    f_out=r_mouse_green_frames[1000],\n",
    "    suffix=\"RIGHT_RAW_GREEN_FRAME\",\n",
    "    path=EXP_3,\n",
    "    ftype=\"npy\",\n",
    "    save=True,\n",
    ")\n",
    "\n",
    "# l_blue_frame = res.saveas(\n",
    "#     f_out=l_mouse_blue_frames[1000],\n",
    "#     suffix=\"LEFT_RAW_BLUE_FRAME\",\n",
    "#     path=EXP_3,\n",
    "#     ftype=\"npy\",\n",
    "#     save=True,\n",
    "# )\n",
    "\n",
    "# r_blue_frame = res.saveas(\n",
    "#     f_out=r_mouse_blue_frames[1000],\n",
    "#     suffix=\"RIGHT_RAW_BLUE_FRAME\",\n",
    "#     path=EXP_3,\n",
    "#     ftype=\"npy\",\n",
    "#     save=True,\n",
    "# )"
   ]
  },
  {
   "cell_type": "markdown",
   "metadata": {},
   "source": [
    "### Remove dark frames"
   ]
  },
  {
   "cell_type": "code",
   "execution_count": 82,
   "metadata": {},
   "outputs": [
    {
     "name": "stdout",
     "output_type": "stream",
     "text": [
      "(12084, 256, 256)\n",
      "(11882, 256, 256)\n"
     ]
    }
   ],
   "source": [
    "# slice by threshold on green frames\n",
    "l_mouse_slice = vp.DarkFramesSlice.threshold_method(l_mouse_green_frames)\n",
    "r_mouse_slice = vp.DarkFramesSlice.threshold_method(r_mouse_green_frames)\n",
    "\n",
    "print(l_mouse_green_frames.shape)\n",
    "# slice green frames\n",
    "l_mouse_green_frames = l_mouse_green_frames[l_mouse_slice]\n",
    "r_mouse_green_frames = r_mouse_green_frames[r_mouse_slice]\n",
    "\n",
    "print(l_mouse_green_frames.shape)\n",
    "\n",
    "# slice blue frames\n",
    "l_mouse_blue_frames = l_mouse_blue_frames[l_mouse_slice]\n",
    "r_mouse_blue_frames = r_mouse_blue_frames[r_mouse_slice]\n",
    "\n",
    "# slice timestamps\n",
    "l_mouse_timestamps = l_mouse_timestamps[l_mouse_slice]\n",
    "r_mouse_timestamps = r_mouse_timestamps[r_mouse_slice]"
   ]
  },
  {
   "cell_type": "markdown",
   "metadata": {},
   "source": [
    "### Find locations of any dropped frames"
   ]
  },
  {
   "cell_type": "code",
   "execution_count": 83,
   "metadata": {},
   "outputs": [
    {
     "name": "stdout",
     "output_type": "stream",
     "text": [
      "Mean filtered frame difference:  34703.918\n",
      "Mean filtered frame difference:  34704.08\n",
      "28.815122377247047\n"
     ]
    }
   ],
   "source": [
    "l_mouse_delta, l_mouse_where_dropped = vp.get_locations_of_dropped_frames(\n",
    "    timestamps=l_mouse_timestamps,\n",
    "    threshold=50_000\n",
    ")\n",
    "\n",
    "r_mouse_delta, r_mouse_where_dropped = vp.get_locations_of_dropped_frames(\n",
    "    timestamps=r_mouse_timestamps,\n",
    "    threshold=50_000\n",
    ")\n",
    "\n",
    "l_mouse_green_frames = l_mouse_green_frames.astype('float32')\n",
    "r_mouse_green_frames = r_mouse_green_frames.astype('float32')\n",
    "\n",
    "l_mouse_blue_frames = l_mouse_blue_frames.astype('float32')\n",
    "r_mouse_blue_frames = r_mouse_blue_frames.astype('float32')\n",
    "\n",
    "TRUE_FRAMERATE = 1/np.median(l_mouse_delta/1e6)\n",
    "print(TRUE_FRAMERATE)"
   ]
  },
  {
   "cell_type": "markdown",
   "metadata": {},
   "source": [
    "### Fill in dropped frames by interpolating available data"
   ]
  },
  {
   "cell_type": "code",
   "execution_count": 84,
   "metadata": {},
   "outputs": [],
   "source": [
    "#---------------------------- Green frames, left mouse ---------------------------#\n",
    "\n",
    "# Create a list of DroppedFrames objects\n",
    "list_of_dropped_frames_l_green = [\n",
    "    vp.DroppedFrames(*args) for args in vp.generate_frames(\n",
    "        l_mouse_green_frames,\n",
    "        l_mouse_delta,\n",
    "        l_mouse_where_dropped,\n",
    "        TRUE_FRAMERATE\n",
    "    )  \n",
    "]\n",
    "\n",
    "# Produce the interpolated frames\n",
    "list_of_interpolated_dropped_frames_l_green = [\n",
    "    DroppedFrames.interpolate() for DroppedFrames in list_of_dropped_frames_l_green\n",
    "]\n",
    "\n",
    "l_mouse_green_frames = vp.insert_interpolated_frames(\n",
    "    l_mouse_green_frames,\n",
    "    list_of_interpolated_dropped_frames_l_green\n",
    ")\n",
    "\n",
    "#---------------------------- Blue frames, left mouse ---------------------------#\n",
    "\n",
    "# Create a list of DroppedFrames objects\n",
    "list_of_dropped_frames_l_blue = [\n",
    "    vp.DroppedFrames(*args) for args in vp.generate_frames(\n",
    "        l_mouse_blue_frames,\n",
    "        l_mouse_delta,\n",
    "        l_mouse_where_dropped,\n",
    "        TRUE_FRAMERATE\n",
    "    )  \n",
    "]\n",
    "\n",
    "# Produce the interpolated frames\n",
    "list_of_interpolated_dropped_frames_l_blue = [\n",
    "    DroppedFrames.interpolate() for DroppedFrames in list_of_dropped_frames_l_blue\n",
    "]\n",
    "\n",
    "l_mouse_blue_frames = vp.insert_interpolated_frames(\n",
    "    l_mouse_blue_frames,\n",
    "    list_of_interpolated_dropped_frames_l_blue\n",
    ")\n",
    "\n",
    "#---------------------------- Red frames, left mouse ---------------------------#\n",
    "\n",
    "# # Create a list of DroppedFrames objects\n",
    "# list_of_dropped_frames_l_red = [\n",
    "#     vp.DroppedFrames(*args) for args in vp.generate_frames(\n",
    "#         l_mouse_red_frames,\n",
    "#         l_mouse_delta,\n",
    "#         l_mouse_where_dropped,\n",
    "#         TRUE_FRAMERATE\n",
    "#     )  \n",
    "# ]\n",
    "\n",
    "# # Produce the interpolated frames\n",
    "# list_of_interpolated_dropped_frames_l_red = [\n",
    "#     DroppedFrames.interpolate() for DroppedFrames in list_of_dropped_frames_l_red\n",
    "# ]\n",
    "\n",
    "# l_mouse_red_frames = vp.insert_interpolated_frames(\n",
    "#     l_mouse_red_frames,\n",
    "#     list_of_interpolated_dropped_frames_l_red\n",
    "# )"
   ]
  },
  {
   "cell_type": "code",
   "execution_count": 85,
   "metadata": {},
   "outputs": [],
   "source": [
    "#---------------------------- Green frames, right mouse ----------------------------#\n",
    "\n",
    "# Create a list of DroppedFrames objects\n",
    "list_of_dropped_frames_r_green = [\n",
    "    vp.DroppedFrames(*args) for args in vp.generate_frames(\n",
    "        r_mouse_green_frames,\n",
    "        r_mouse_delta,\n",
    "        r_mouse_where_dropped,\n",
    "        TRUE_FRAMERATE\n",
    "    )  \n",
    "]\n",
    "\n",
    "# Produce the interpolated frames\n",
    "list_of_interpolated_dropped_frames_r_green = [\n",
    "    DroppedFrames.interpolate() for DroppedFrames in list_of_dropped_frames_r_green\n",
    "]\n",
    "\n",
    "r_mouse_green_frames = vp.insert_interpolated_frames(\n",
    "    r_mouse_green_frames,\n",
    "    list_of_interpolated_dropped_frames_r_green\n",
    ")\n",
    "\n",
    "#---------------------------- Blue frames, right mouse ----------------------------#\n",
    "\n",
    "# Create a list of DroppedFrames objects\n",
    "list_of_dropped_frames_r_blue = [\n",
    "    vp.DroppedFrames(*args) for args in vp.generate_frames(\n",
    "        r_mouse_blue_frames,\n",
    "        r_mouse_delta,\n",
    "        r_mouse_where_dropped,\n",
    "        TRUE_FRAMERATE\n",
    "    )  \n",
    "]\n",
    "\n",
    "# Produce the interpolated frames\n",
    "list_of_interpolated_dropped_frames_r_blue = [\n",
    "    DroppedFrames.interpolate() for DroppedFrames in list_of_dropped_frames_r_blue\n",
    "]\n",
    "\n",
    "r_mouse_blue_frames = vp.insert_interpolated_frames(\n",
    "    r_mouse_blue_frames,\n",
    "    list_of_interpolated_dropped_frames_r_blue\n",
    ")\n",
    "\n",
    "#---------------------------- Red frames, right mouse ----------------------------#\n",
    "\n",
    "# # Create a list of DroppedFrames objects\n",
    "# list_of_dropped_frames_r_red = [\n",
    "#     vp.DroppedFrames(*args) for args in vp.generate_frames(\n",
    "#         r_mouse_red_frames,\n",
    "#         r_mouse_delta,\n",
    "#         r_mouse_where_dropped,\n",
    "#         TRUE_FRAMERATE\n",
    "#     )  \n",
    "# ]\n",
    "\n",
    "# # Produce the interpolated frames\n",
    "# list_of_interpolated_dropped_frames_r_red = [\n",
    "#     DroppedFrames.interpolate() for DroppedFrames in list_of_dropped_frames_r_red\n",
    "# ]\n",
    "\n",
    "# r_mouse_red_frames = vp.insert_interpolated_frames(\n",
    "#     r_mouse_red_frames,\n",
    "#     list_of_interpolated_dropped_frames_r_red\n",
    "# )"
   ]
  },
  {
   "cell_type": "markdown",
   "metadata": {},
   "source": [
    "###  Calculate $\\frac{\\Delta F}{F _{0}}$\n",
    "#### Where:\n",
    "####     $F_{0}$ = $\\frac{1}{n}\\sum_{i=1}^{n} F_{i}$\n",
    "####     $\\Delta F$ = $F - F_{0}$"
   ]
  },
  {
   "cell_type": "code",
   "execution_count": 86,
   "metadata": {},
   "outputs": [],
   "source": [
    "l_mouse_green_frames, l_mouse_green_variance = vp.calculate_df_f0(l_mouse_green_frames)\n",
    "l_mouse_blue_frames, l_mouse_blue_variance = vp.calculate_df_f0(l_mouse_blue_frames)\n",
    "# l_mouse_red_frames, l_mouse_red_variance = vp.calculate_df_f0(l_mouse_red_frames)\n",
    "\n",
    "r_mouse_green_frames, r_mouse_green_variance = vp.calculate_df_f0(r_mouse_green_frames)\n",
    "r_mouse_blue_frames, r_mouse_blue_variance = vp.calculate_df_f0(r_mouse_blue_frames)\n",
    "# r_mouse_red_frames, r_mouse_red_variance = vp.calculate_df_f0(r_mouse_red_frames)"
   ]
  },
  {
   "cell_type": "code",
   "execution_count": 87,
   "metadata": {},
   "outputs": [
    {
     "data": {
      "text/plain": [
       "[<matplotlib.lines.Line2D at 0x8f52496b00>]"
      ]
     },
     "execution_count": 87,
     "metadata": {},
     "output_type": "execute_result"
    }
   ],
   "source": [
    "plt.figure()\n",
    "plt.plot(np.nanmean(np.nanmean(r_mouse_green_frames, axis=2), axis=1))\n",
    "plt.plot(np.nanmean(np.nanmean(l_mouse_green_frames, axis=2), axis=1))\n",
    "\n",
    "\n",
    "plt.figure()\n",
    "plt.plot(np.nanmean(np.nanmean(r_mouse_blue_frames, axis=2), axis=1))\n",
    "plt.plot(np.nanmean(np.nanmean(l_mouse_blue_frames, axis=2), axis=1))"
   ]
  },
  {
   "cell_type": "markdown",
   "metadata": {},
   "source": [
    "## Apply lfilter using chebychev type 1 filter parameters "
   ]
  },
  {
   "cell_type": "code",
   "execution_count": 14,
   "metadata": {},
   "outputs": [],
   "source": [
    "# initialise the filtering paramters by creating a Filter object\n",
    "low_limit = 0.01\n",
    "high_limit = 12.0\n",
    "\n",
    "filt = vp.Filter(\n",
    "    low_freq_cutoff=low_limit,\n",
    "    high_freq_cutoff=high_limit,\n",
    "    frame_rate=TRUE_FRAMERATE\n",
    ")\n",
    "\n",
    "# apply the filters\n",
    "l_mouse_green_frames = filt.filter(l_mouse_green_frames)\n",
    "r_mouse_green_frames = filt.filter(r_mouse_green_frames)\n",
    "l_mouse_blue_frames = filt.filter(l_mouse_blue_frames)\n",
    "r_mouse_blue_frames = filt.filter(r_mouse_blue_frames)\n"
   ]
  },
  {
   "cell_type": "markdown",
   "metadata": {},
   "source": [
    "## Ensure the frames have the same dimensions"
   ]
  },
  {
   "cell_type": "code",
   "execution_count": 88,
   "metadata": {},
   "outputs": [],
   "source": [
    "if l_mouse_green_frames.shape[0] != r_mouse_green_frames.shape[0]:\n",
    "    if l_mouse_green_frames.shape[0] < r_mouse_green_frames.shape[0]:\n",
    "        r_mouse_green_frames = r_mouse_green_frames[:l_mouse_green_frames.shape[0]]\n",
    "        r_mouse_blue_frames = r_mouse_blue_frames[:l_mouse_blue_frames.shape[0]]\n",
    "#         r_mouse_red_frames = r_mouse_red_frames[:l_mouse_red_frames_frames.shape[0]]\n",
    "    elif r_mouse_green_frames.shape[0] < l_mouse_green_frames.shape[0]:\n",
    "        l_mouse_green_frames = l_mouse_green_frames[:r_mouse_green_frames.shape[0]]\n",
    "        l_mouse_blue_frames = l_mouse_blue_frames[:r_mouse_blue_frames.shape[0]]\n",
    "#         l_mouse_red_frames = l_mouse_red_frames[:r_mouse_red_frames.shape[0]]\n",
    "\n",
    "assert l_mouse_green_frames.shape[0] == r_mouse_green_frames.shape[0]"
   ]
  },
  {
   "cell_type": "markdown",
   "metadata": {},
   "source": [
    "## Save processed frames "
   ]
  },
  {
   "cell_type": "code",
   "execution_count": 39,
   "metadata": {},
   "outputs": [
    {
     "name": "stdout",
     "output_type": "stream",
     "text": [
      "Saved as LEFT_GREEN_unfiltered_MM004L-s_M002R-m_August-08_1113_experiment-2_DK.raw\n",
      "Saved as LEFT_BLUE_unfiltered_MM004L-s_M002R-m_August-08_1113_experiment-2_DK.raw\n",
      "Saved as RIGHT_GREEN_unfiltered_MM002R-m_M004L-s_August-08_1113_experiment-2_DK.raw\n",
      "Saved as RIGHT_BLUE_unfiltered_MM002R-m_M004L-s_August-08_1113_experiment-2_DK.raw\n"
     ]
    }
   ],
   "source": [
    "\n",
    "\n",
    "# help(res.saveas)\n",
    "\n",
    "# l_mouse_green_frames_fname = res.saveas(\n",
    "#     f_out=l_mouse_green_frames,\n",
    "#     prefix=\"LEFT_GREEN_processed_dff0_bandpass{}-{}Hz\".format(\n",
    "#         low_limit, high_limit\n",
    "#     ),\n",
    "#     ftype=\"raw\",\n",
    "#     dtype=\"float32\",\n",
    "#     f_in=l_mouse,\n",
    "#     save=True\n",
    "# )\n",
    "\n",
    "# l_mouse_blue_frames_fname = res.saveas(\n",
    "#     f_out=l_mouse_blue_frames,\n",
    "#     prefix=\"LEFT_BLUE_processed_dff0_bandpass{}-{}Hz\".format(\n",
    "#         low_limit, high_limit\n",
    "#     ),\n",
    "#     ftype=\"raw\",\n",
    "#     dtype=\"float32\",\n",
    "#     f_in=l_mouse,\n",
    "#     save=True,\n",
    "# )\n",
    "\n",
    "\n",
    "\n",
    "# r_mouse_green_frames_fname = res.saveas(\n",
    "#     f_out=r_mouse_green_frames,\n",
    "#     prefix=\"RIGHT_GREEN_processed_dff0_bandpass{}-{}Hz\".format(\n",
    "#         low_limit, high_limit\n",
    "#     ),\n",
    "#     ftype=\"raw\",\n",
    "#     dtype=\"float32\",\n",
    "#     f_in=r_mouse,\n",
    "#     save=True,\n",
    "# )\n",
    "\n",
    "# r_mouse_blue_frames_fname = res.saveas(\n",
    "#     f_out=r_mouse_blue_frames,\n",
    "#     prefix=\"RIGHT_BLUE_processed_dff0_bandpass{}-{}Hz\".format(\n",
    "#         low_limit, high_limit\n",
    "#     ),\n",
    "#     ftype=\"raw\",\n",
    "#     dtype=\"float32\",\n",
    "#     f_in=r_mouse,\n",
    "#     save=True,\n",
    "# )\n",
    "\n",
    "l_mouse_green_frames_fname = res.saveas(\n",
    "    f_out=l_mouse_green_frames,\n",
    "    prefix=\"LEFT_GREEN_unfiltered\",\n",
    "    ftype=\"raw\",\n",
    "    dtype=\"float32\",\n",
    "    f_in=l_mouse,\n",
    "    save=True\n",
    ")\n",
    "\n",
    "l_mouse_blue_frames_fname = res.saveas(\n",
    "    f_out=l_mouse_blue_frames,\n",
    "    prefix=\"LEFT_BLUE_unfiltered\",\n",
    "    ftype=\"raw\",\n",
    "    dtype=\"float32\",\n",
    "    f_in=l_mouse,\n",
    "    save=True,\n",
    ")\n",
    "\n",
    "\n",
    "\n",
    "r_mouse_green_frames_fname = res.saveas(\n",
    "    f_out=r_mouse_green_frames,\n",
    "    prefix=\"RIGHT_GREEN_unfiltered\",\n",
    "    ftype=\"raw\",\n",
    "    dtype=\"float32\",\n",
    "    f_in=r_mouse,\n",
    "    save=True,\n",
    ")\n",
    "\n",
    "r_mouse_blue_frames_fname = res.saveas(\n",
    "    f_out=r_mouse_blue_frames,\n",
    "    prefix=\"RIGHT_BLUE_unfiltered\",\n",
    "    ftype=\"raw\",\n",
    "    dtype=\"float32\",\n",
    "    f_in=r_mouse,\n",
    "    save=True,\n",
    ")\n",
    "\n"
   ]
  },
  {
   "cell_type": "code",
   "execution_count": 53,
   "metadata": {},
   "outputs": [
    {
     "ename": "NameError",
     "evalue": "name 'fname' is not defined",
     "output_type": "error",
     "traceback": [
      "\u001b[1;31m---------------------------------------------------------------------------\u001b[0m",
      "\u001b[1;31mNameError\u001b[0m                                 Traceback (most recent call last)",
      "\u001b[1;32m<ipython-input-53-4b70d9e98e44>\u001b[0m in \u001b[0;36m<module>\u001b[1;34m\u001b[0m\n\u001b[1;32m----> 1\u001b[1;33m \u001b[0mprint\u001b[0m\u001b[1;33m(\u001b[0m\u001b[0mdirec\u001b[0m\u001b[1;33m+\u001b[0m\u001b[0mfname\u001b[0m\u001b[1;33m)\u001b[0m\u001b[1;33m\u001b[0m\u001b[1;33m\u001b[0m\u001b[0m\n\u001b[0m",
      "\u001b[1;31mNameError\u001b[0m: name 'fname' is not defined"
     ]
    }
   ],
   "source": [
    "print(direc+fname)"
   ]
  },
  {
   "cell_type": "markdown",
   "metadata": {},
   "source": [
    "## Perform signal correction $\\frac{A}{B+1}$\n",
    "\n",
    "### Where:\n",
    "### A = $\\frac{\\Delta F}{F _{0}}$ from fluorescence\n",
    "### B = $\\frac{\\Delta F}{F _{0}}$ from reflectance"
   ]
  },
  {
   "cell_type": "code",
   "execution_count": 14,
   "metadata": {},
   "outputs": [],
   "source": [
    "l_mouse_green_by_blue = vp.correct_channel_a_by_b(\n",
    "    l_mouse_green_frames,\n",
    "    l_mouse_blue_frames\n",
    ")\n",
    "# l_mouse_green_by_red = vp.correct_channel_a_by_b(\n",
    "#     l_mouse_green,\n",
    "#     l_mouse_red\n",
    "# )\n",
    "r_mouse_green_by_blue = vp.correct_channel_a_by_b(\n",
    "    r_mouse_green_frames,\n",
    "    r_mouse_blue_frames\n",
    ")\n",
    "# r_mouse_green_by_red = vp.correct_channel_a_by_b(\n",
    "#     r_mouse_green,\n",
    "#     r_mouse_red\n",
    "# )"
   ]
  },
  {
   "cell_type": "markdown",
   "metadata": {},
   "source": [
    "## Save corrected frames"
   ]
  },
  {
   "cell_type": "code",
   "execution_count": 374,
   "metadata": {},
   "outputs": [
    {
     "name": "stdout",
     "output_type": "stream",
     "text": [
      "Saved as LEFT_corrected_g_by_b_processed_dff0_bandpass0.01-12.0Hz_MMIJ3L-s_MIQ2R-m_July-21_1640_experiment-12_non-cage_mates.raw\n",
      "Saved as RIGHT_corrected_g_by_b_processed_dff0_bandpass0.01-12.0Hz_MMIQ2R-m_MIJ3L-s_July-21_1640_experiment-12_non-cage_mates.raw\n"
     ]
    }
   ],
   "source": [
    "l_green_by_blue = res.saveas(\n",
    "    f_out=l_mouse_green_by_blue,\n",
    "    prefix=\"LEFT_corrected_g_by_b_processed_dff0_bandpass{}-{}Hz\".format(\n",
    "        low_limit, high_limit\n",
    "    ),\n",
    "    dtype='float32',\n",
    "    ftype=\"raw\",\n",
    "    f_in=l_mouse,\n",
    "    save=True,\n",
    ")\n",
    "\n",
    "\n",
    "\n",
    "r_green_by_blue = res.saveas(\n",
    "    f_out=r_mouse_green_by_blue,\n",
    "    prefix=\"RIGHT_corrected_g_by_b_processed_dff0_bandpass{}-{}Hz\".format(\n",
    "        low_limit, high_limit\n",
    "    ),\n",
    "    dtype='float32',\n",
    "    ftype=\"raw\",\n",
    "    f_in=r_mouse,\n",
    "    save=True,\n",
    ")\n",
    "\n"
   ]
  },
  {
   "cell_type": "markdown",
   "metadata": {},
   "source": [
    "## Behaviour video frames"
   ]
  },
  {
   "cell_type": "code",
   "execution_count": 89,
   "metadata": {},
   "outputs": [
    {
     "name": "stdout",
     "output_type": "stream",
     "text": [
      "(12606, 480, 640)\n",
      "Mean filtered frame difference:  nan\n",
      "30.016006347703367\n",
      "[    0     1     2 ... 12602 12603 12604]\n"
     ]
    }
   ],
   "source": [
    "behavior_frames = vp.load_frames(\n",
    "    filename,\n",
    "    color='red'\n",
    ")\n",
    "\n",
    "\n",
    "b_timestamps = vp.clean_raw_timestamps(b_file)\n",
    "\n",
    "print(behavior_frames.shape)\n",
    "\n",
    "b_delta, b_where_dropped = vp.get_locations_of_dropped_frames(\n",
    "    timestamps=b_timestamps,\n",
    "    threshold=12_500\n",
    ")\n",
    "\n",
    "print(1/np.mean(b_delta/1e6))\n",
    "BEHAVIOUR_FRAMERATE = 1/np.median(b_delta/1e6)\n",
    "print(b_where_dropped)\n",
    "\n",
    "\n",
    "\n",
    "\n"
   ]
  },
  {
   "cell_type": "code",
   "execution_count": 90,
   "metadata": {},
   "outputs": [
    {
     "name": "stdout",
     "output_type": "stream",
     "text": [
      "B:\\Dual\\20190729\\Experiment_1\\Behaviour\\M004L-s_M003R-m_July-29_1430_experiment-1_DK.h264\n",
      "30.019211994647357\n",
      "(12606, 480, 640)\n",
      "[33314. 33315. 33315. ... 33312. 33312. 33312.]\n",
      "(12605,)\n"
     ]
    },
    {
     "data": {
      "text/plain": [
       "[<matplotlib.lines.Line2D at 0x8f526e25f8>]"
      ]
     },
     "execution_count": 90,
     "metadata": {},
     "output_type": "execute_result"
    },
    {
     "data": {
      "image/png": "[encoded data removed]",
      "text/plain": [
       "<Figure size 432x288 with 1 Axes>"
      ]
     },
     "metadata": {
      "needs_background": "light"
     },
     "output_type": "display_data"
    }
   ],
   "source": [
    "%matplotlib inline\n",
    "print(filename)\n",
    "print(BEHAVIOUR_FRAMERATE)\n",
    "print(behavior_frames.shape)\n",
    "print(b_delta)\n",
    "print(b_where_dropped.shape)\n",
    "plt.figure()\n",
    "plt.plot(b_delta)"
   ]
  },
  {
   "cell_type": "markdown",
   "metadata": {},
   "source": [
    "### Draw a Region of Interest. \n",
    "\n",
    "From the [github](https://github.com/jdoepfert/roipoly.py) documentation, we have:\n",
    "\n",
    "Creating a ROI\n",
    "\n",
    "In your python code, import the roipoly module using\n",
    "```python\n",
    "from roipoly import RoiPoly\n",
    "```\n",
    "To draw a ROI within an image present as a numpy array, show it first using e.g. pylabs’s imshow:\n",
    "```python\n",
    "from matplotlib import pyplot as plt\n",
    "plt.imshow(image)\n",
    "```\n",
    "Then let the user draw a polygonal ROI within that image:\n",
    "```python\n",
    "my_roi = RoiPoly(color='r') # draw new ROI in red color\n",
    "```\n",
    "This lets the user interactively draw a polygon within the image by clicking with the left mouse button to select the vertices of the polygon. To close the polygon, click with the right mouse button. After finishing the ROI, the current figure is closed so that the execution of the code can continue.\n",
    "\n",
    "We achieve this in the notebook by switching to the qt console then back to inline using jupyter magic:"
   ]
  },
  {
   "cell_type": "code",
   "execution_count": null,
   "metadata": {},
   "outputs": [],
   "source": []
  },
  {
   "cell_type": "code",
   "execution_count": 91,
   "metadata": {},
   "outputs": [
    {
     "data": {
      "image/png": "[encoded data removed]",
      "text/plain": [
       "<Figure size 432x288 with 1 Axes>"
      ]
     },
     "metadata": {
      "needs_background": "light"
     },
     "output_type": "display_data"
    }
   ],
   "source": [
    "%matplotlib qt\n",
    "import matplotlib.pyplot as plt\n",
    "plt.figure()\n",
    "plt.imshow(behavior_frames[5000], cmap='gray', vmin=0, vmax=255)\n",
    "roi = RoiPoly(color='g')\n",
    "\n",
    "# Let's see what we have\n",
    "%matplotlib inline\n",
    "plt.imshow(behavior_frames[5000], cmap='gray', vmin=0, vmax=255)\n",
    "roi.display_roi()"
   ]
  },
  {
   "cell_type": "markdown",
   "metadata": {},
   "source": [
    "### Remove Dark frames where lights go on/off"
   ]
  },
  {
   "cell_type": "code",
   "execution_count": 95,
   "metadata": {},
   "outputs": [
    {
     "name": "stdout",
     "output_type": "stream",
     "text": [
      "(12396, 480, 640)\n"
     ]
    },
    {
     "data": {
      "text/plain": [
       "[<matplotlib.lines.Line2D at 0x8f52bb49b0>]"
      ]
     },
     "execution_count": 95,
     "metadata": {},
     "output_type": "execute_result"
    },
    {
     "data": {
      "image/png": "[encoded data removed]",
      "text/plain": [
       "<Figure size 432x288 with 1 Axes>"
      ]
     },
     "metadata": {
      "needs_background": "light"
     },
     "output_type": "display_data"
    }
   ],
   "source": [
    "print(behavior_frames.shape)\n",
    "plt.figure()\n",
    "plt.plot(np.mean(np.mean(behavior_frames,axis=1),axis=1))"
   ]
  },
  {
   "cell_type": "code",
   "execution_count": 94,
   "metadata": {},
   "outputs": [
    {
     "name": "stdout",
     "output_type": "stream",
     "text": [
      "(12396, 480, 640)\n"
     ]
    }
   ],
   "source": [
    "behavior_frames_slice = vp.DarkFramesSlice.threshold_method(\n",
    "    frames=behavior_frames, \n",
    "    threshold=5\n",
    ")\n",
    "\n",
    "behavior_frames = behavior_frames[behavior_frames_slice]\n",
    "print(behavior_frames.shape)"
   ]
  },
  {
   "cell_type": "code",
   "execution_count": 62,
   "metadata": {},
   "outputs": [
    {
     "ename": "TypeError",
     "evalue": "unsupported operand type(s) for +: 'NoneType' and 'str'",
     "output_type": "error",
     "traceback": [
      "\u001b[1;31m---------------------------------------------------------------------------\u001b[0m",
      "\u001b[1;31mTypeError\u001b[0m                                 Traceback (most recent call last)",
      "\u001b[1;32m<ipython-input-62-3fcd9d281f52>\u001b[0m in \u001b[0;36m<module>\u001b[1;34m\u001b[0m\n\u001b[0;32m      6\u001b[0m     \u001b[0mdtype\u001b[0m\u001b[1;33m=\u001b[0m\u001b[1;34m'uint8'\u001b[0m\u001b[1;33m,\u001b[0m\u001b[1;33m\u001b[0m\u001b[1;33m\u001b[0m\u001b[0m\n\u001b[0;32m      7\u001b[0m     \u001b[0mf_in\u001b[0m\u001b[1;33m=\u001b[0m\u001b[0mfilename\u001b[0m\u001b[1;33m,\u001b[0m\u001b[1;33m\u001b[0m\u001b[1;33m\u001b[0m\u001b[0m\n\u001b[1;32m----> 8\u001b[1;33m     \u001b[0msave\u001b[0m\u001b[1;33m=\u001b[0m\u001b[1;32mTrue\u001b[0m\u001b[1;33m\u001b[0m\u001b[1;33m\u001b[0m\u001b[0m\n\u001b[0m\u001b[0;32m      9\u001b[0m )\n\u001b[0;32m     10\u001b[0m \u001b[0mprint\u001b[0m\u001b[1;33m(\u001b[0m\u001b[1;34m\"done\"\u001b[0m\u001b[1;33m)\u001b[0m\u001b[1;33m\u001b[0m\u001b[1;33m\u001b[0m\u001b[0m\n",
      "\u001b[1;32m~\\Documents\\Nick\\Social_Interaction\\librain.py\u001b[0m in \u001b[0;36msaveas\u001b[1;34m(self, f_out, ftype, suffix, prefix, dtype, f_in, save, path, dirname, fig)\u001b[0m\n\u001b[0;32m    377\u001b[0m                         \u001b[1;32mreturn\u001b[0m \u001b[0mfname\u001b[0m\u001b[1;33m\u001b[0m\u001b[1;33m\u001b[0m\u001b[0m\n\u001b[0;32m    378\u001b[0m                     \u001b[1;32melse\u001b[0m\u001b[1;33m:\u001b[0m\u001b[1;33m\u001b[0m\u001b[1;33m\u001b[0m\u001b[0m\n\u001b[1;32m--> 379\u001b[1;33m                         \u001b[0mf_out\u001b[0m\u001b[1;33m.\u001b[0m\u001b[0mastype\u001b[0m\u001b[1;33m(\u001b[0m\u001b[0mnp\u001b[0m\u001b[1;33m.\u001b[0m\u001b[0mdtype\u001b[0m\u001b[1;33m(\u001b[0m\u001b[0mdtype\u001b[0m\u001b[1;33m)\u001b[0m\u001b[1;33m)\u001b[0m\u001b[1;33m.\u001b[0m\u001b[0mtofile\u001b[0m\u001b[1;33m(\u001b[0m\u001b[0mdirec\u001b[0m\u001b[1;33m+\u001b[0m\u001b[0mfname\u001b[0m\u001b[1;33m)\u001b[0m\u001b[1;33m\u001b[0m\u001b[1;33m\u001b[0m\u001b[0m\n\u001b[0m\u001b[0;32m    380\u001b[0m                         \u001b[0mprint\u001b[0m\u001b[1;33m(\u001b[0m\u001b[1;34mf'Saved as {fname}'\u001b[0m\u001b[1;33m)\u001b[0m\u001b[1;33m\u001b[0m\u001b[1;33m\u001b[0m\u001b[0m\n\u001b[0;32m    381\u001b[0m                         \u001b[1;32mreturn\u001b[0m \u001b[0mfname\u001b[0m\u001b[1;33m\u001b[0m\u001b[1;33m\u001b[0m\u001b[0m\n",
      "\u001b[1;31mTypeError\u001b[0m: unsupported operand type(s) for +: 'NoneType' and 'str'"
     ]
    }
   ],
   "source": [
    "behavior_frames_fname = res.saveas(\n",
    "    path=EXP_3 + \"\\\\\" + \"Behaviour\",\n",
    "    f_out=behavior_frames,\n",
    "    suffix=\"dark_removed\",\n",
    "    ftype=\"raw\",\n",
    "    dtype='uint8',\n",
    "    f_in=filename,\n",
    "    save=True\n",
    ")\n",
    "print(\"done\")"
   ]
  },
  {
   "cell_type": "code",
   "execution_count": 22,
   "metadata": {},
   "outputs": [
    {
     "name": "stdout",
     "output_type": "stream",
     "text": [
      "(35107, 240, 320)\n",
      "(11899, 256, 256)\n"
     ]
    }
   ],
   "source": [
    "# filename='B:/Dual/20190724/Experiment_1/Behaviour/M004L-s_M001R-m_July-24_1804_experiment-1_DK.h264'\n",
    "# behavior_frames = vp.load_frames(\n",
    "#     filename,\n",
    "#     color='red'\n",
    "# )\n",
    "\n",
    "print(behavior_frames.shape)\n",
    "print(l_mouse_green_frames.shape)"
   ]
  },
  {
   "cell_type": "markdown",
   "metadata": {},
   "source": [
    "### Suppose video A has a higher frame rate than video B.\n",
    "#### Then we want to extract a subset of frames from A such that the remaining frames temporally correspond closest to the frames in B"
   ]
  },
  {
   "cell_type": "code",
   "execution_count": 21,
   "metadata": {},
   "outputs": [
    {
     "name": "stdout",
     "output_type": "stream",
     "text": [
      "(12395, 480, 640)\n"
     ]
    },
    {
     "ename": "ValueError",
     "evalue": "not enough values to unpack (expected 2, got 1)",
     "output_type": "error",
     "traceback": [
      "\u001b[1;31m---------------------------------------------------------------------------\u001b[0m",
      "\u001b[1;31mValueError\u001b[0m                                Traceback (most recent call last)",
      "\u001b[1;32m<ipython-input-21-5a0bca6d0a7f>\u001b[0m in \u001b[0;36m<module>\u001b[1;34m\u001b[0m\n\u001b[0;32m     10\u001b[0m     \u001b[0mb_delta\u001b[0m\u001b[1;33m,\u001b[0m\u001b[1;33m\u001b[0m\u001b[1;33m\u001b[0m\u001b[0m\n\u001b[0;32m     11\u001b[0m     \u001b[0mb_where_dropped\u001b[0m\u001b[1;33m,\u001b[0m\u001b[1;33m\u001b[0m\u001b[1;33m\u001b[0m\u001b[0m\n\u001b[1;32m---> 12\u001b[1;33m     BEHAVIOUR_FRAMERATE)\n\u001b[0m\u001b[0;32m     13\u001b[0m ]\n\u001b[0;32m     14\u001b[0m \u001b[1;33m\u001b[0m\u001b[0m\n",
      "\u001b[1;32m<ipython-input-21-5a0bca6d0a7f>\u001b[0m in \u001b[0;36m<listcomp>\u001b[1;34m(.0)\u001b[0m\n\u001b[0;32m      6\u001b[0m \u001b[1;33m\u001b[0m\u001b[0m\n\u001b[0;32m      7\u001b[0m list_of_dropped_frames_behavior = [\n\u001b[1;32m----> 8\u001b[1;33m     vp.DroppedFrames(*args) for args in vp.generate_frames(\n\u001b[0m\u001b[0;32m      9\u001b[0m     \u001b[0mbehavior_frames\u001b[0m\u001b[1;33m,\u001b[0m\u001b[1;33m\u001b[0m\u001b[1;33m\u001b[0m\u001b[0m\n\u001b[0;32m     10\u001b[0m     \u001b[0mb_delta\u001b[0m\u001b[1;33m,\u001b[0m\u001b[1;33m\u001b[0m\u001b[1;33m\u001b[0m\u001b[0m\n",
      "\u001b[1;32m~\\Desktop\\dual-mouse\\python\\video_processing.py\u001b[0m in \u001b[0;36mgenerate_frames\u001b[1;34m(frames, differences, locations, true_frame_rate)\u001b[0m\n\u001b[0;32m    181\u001b[0m         )\n\u001b[0;32m    182\u001b[0m         first_frame, last_frame = frames[\n\u001b[1;32m--> 183\u001b[1;33m             \u001b[0mlocation\u001b[0m \u001b[1;33m:\u001b[0m \u001b[0mlocation\u001b[0m \u001b[1;33m+\u001b[0m \u001b[1;36m2\u001b[0m\u001b[1;33m\u001b[0m\u001b[1;33m\u001b[0m\u001b[0m\n\u001b[0m\u001b[0;32m    184\u001b[0m         ]\n\u001b[0;32m    185\u001b[0m         yield (\n",
      "\u001b[1;31mValueError\u001b[0m: not enough values to unpack (expected 2, got 1)"
     ]
    }
   ],
   "source": [
    "# Interpolate behvaior data\n",
    "\n",
    "# \n",
    "print(behavior_frames.shape)\n",
    "behavior_frames = behavior_frames.astype('float32')\n",
    "\n",
    "list_of_dropped_frames_behavior = [\n",
    "    vp.DroppedFrames(*args) for args in vp.generate_frames(\n",
    "    behavior_frames,\n",
    "    b_delta,\n",
    "    b_where_dropped,\n",
    "    BEHAVIOUR_FRAMERATE)\n",
    "]\n",
    "\n",
    "# Produce the interpolated frames\n",
    "\n",
    "list_of_interpolated_dropped_frames_behavior = [\n",
    "    DroppedFrames.interpolate() for DroppedFrames in list_of_dropped_frames_behavior\n",
    "]\n",
    "\n",
    "\n",
    "behavior_frames = vp.insert_interpolated_frames(\n",
    "    behavior_frames,\n",
    "    list_of_interpolated_dropped_frames_behavior\n",
    ")\n",
    "\n"
   ]
  },
  {
   "cell_type": "code",
   "execution_count": 20,
   "metadata": {},
   "outputs": [
    {
     "name": "stdout",
     "output_type": "stream",
     "text": [
      "11899\n",
      "11899\n",
      "[    0     1     2 ... 12601 12602 12603]\n",
      "(11898, 480, 640)\n"
     ]
    }
   ],
   "source": [
    "print(l_mouse_green_frames.shape[0])\n",
    "print(r_mouse_green_frames.shape[0])\n",
    "print(b_where_dropped)\n",
    "print(behavior_frames.shape)"
   ]
  },
  {
   "cell_type": "code",
   "execution_count": 96,
   "metadata": {},
   "outputs": [
    {
     "name": "stdout",
     "output_type": "stream",
     "text": [
      "(12395,)\n",
      "(11898,)\n",
      "412.86893214285374\n",
      "412.8734851181507\n",
      "(11898, 480, 640)\n",
      "(11899, 256, 256)\n"
     ]
    },
    {
     "data": {
      "image/png": "[encoded data removed]",
      "text/plain": [
       "<Figure size 432x288 with 1 Axes>"
      ]
     },
     "metadata": {
      "needs_background": "light"
     },
     "output_type": "display_data"
    }
   ],
   "source": [
    "# print(behavior_frames.shape)\n",
    "# print(BEHAVIOUR_FRAMERATE)\n",
    "# print(TRUE_FRAMERATE)\n",
    "\n",
    "# print(behavior_imaging_period)\n",
    "# print(brain_imaging_period)\n",
    "\n",
    "# plt.figure()\n",
    "# # plt.plot(b_timestamps/1000000)\n",
    "# # plt.plot(brain_imaging_indices)\n",
    "\n",
    "\n",
    "\n",
    "behavior_timestamps = np.arange(0, (behavior_frames.shape[0]-1)/BEHAVIOUR_FRAMERATE, 1/BEHAVIOUR_FRAMERATE)\n",
    "brain_timestamps = np.arange(0, (l_mouse_green_frames.shape[0]-1)/TRUE_FRAMERATE, 1/TRUE_FRAMERATE)\n",
    "print(behavior_timestamps.shape)\n",
    "print(brain_timestamps.shape)\n",
    "plt.plot(behavior_timestamps)\n",
    "plt.plot(brain_timestamps)\n",
    "\n",
    "\n",
    "\n",
    "print(behavior_timestamps.max())\n",
    "print(brain_timestamps.max())\n",
    "\n",
    "\n",
    "\n",
    "behavior_index = np.empty((brain_timestamps.size, 1))\n",
    "\n",
    "for i, tt in enumerate(brain_timestamps):\n",
    "    tdiff = np.abs(behavior_timestamps - tt)\n",
    "#     print(tdiff.shape)\n",
    "    test = np.argmin(tdiff)\n",
    "#     print(test)\n",
    "    behavior_index[i] = [test]\n",
    "#     print(behavior_index)\n",
    "\n",
    "\n",
    "behavior_index = np.squeeze(behavior_index).astype(int)\n",
    "# behavior_index = int(behavior_index)\n",
    "\n",
    "\n",
    "behavior_frames = behavior_frames[behavior_index]\n",
    "print(behavior_frames.shape)\n",
    "print(l_mouse_green_frames.shape)"
   ]
  },
  {
   "cell_type": "code",
   "execution_count": 35,
   "metadata": {},
   "outputs": [
    {
     "name": "stdout",
     "output_type": "stream",
     "text": [
      "(11898, 480, 640)\n"
     ]
    },
    {
     "data": {
      "text/plain": [
       "[<matplotlib.lines.Line2D at 0x8f4ffb0eb8>]"
      ]
     },
     "execution_count": 35,
     "metadata": {},
     "output_type": "execute_result"
    }
   ],
   "source": [
    "print(behavior_frames.shape)\n",
    "# test = np.squeeze(behavior_index)\n",
    "# print(test.shape)\n",
    "# print(test)\n",
    "# plt.plot(behavior_timestamps[behavior_index])\n",
    "# plt.plot(brain_timestamps)\n",
    "\n",
    "\n",
    "# plt.plot(np.diff(behavior_index, axis=0))\n",
    "\n",
    "plt.plot(np.diff(behavior_index, axis=0))\n"
   ]
  },
  {
   "cell_type": "code",
   "execution_count": 46,
   "metadata": {},
   "outputs": [],
   "source": [
    "behavior_imaging_period, behavior_imaging_frames = 1/BEHAVIOUR_FRAMERATE, np.shape(behavior_frames)[0]\n",
    "brain_imaging_period, brain_imaging_frames = 1/TRUE_FRAMERATE, np.shape(l_mouse_green_frames)[0]\n",
    "\n",
    "behavior_imaging_indices, brain_imaging_indices = vp.video_synchronisation_indices(\n",
    "    behavior_imaging_period,\n",
    "    behavior_imaging_frames,\n",
    "    brain_imaging_period,\n",
    "    brain_imaging_frames\n",
    ")\n",
    "\n",
    "# behavior_frames = behavior_frames[behavior_imaging_indices]\n",
    "# l_mouse_green_frames = l_mouse_green_frames[brain_imaging_indices]\n",
    "# r_mouse_green_frames = r_mouse_green_frames[brain_imaging_indices]"
   ]
  },
  {
   "cell_type": "code",
   "execution_count": 69,
   "metadata": {},
   "outputs": [
    {
     "ename": "NameError",
     "evalue": "name 'brain_imaging_indices' is not defined",
     "output_type": "error",
     "traceback": [
      "\u001b[1;31m---------------------------------------------------------------------------\u001b[0m",
      "\u001b[1;31mNameError\u001b[0m                                 Traceback (most recent call last)",
      "\u001b[1;32m<ipython-input-69-af0a9f4ad723>\u001b[0m in \u001b[0;36m<module>\u001b[1;34m\u001b[0m\n\u001b[1;32m----> 1\u001b[1;33m \u001b[0mprint\u001b[0m\u001b[1;33m(\u001b[0m\u001b[0mnp\u001b[0m\u001b[1;33m.\u001b[0m\u001b[0mshape\u001b[0m\u001b[1;33m(\u001b[0m\u001b[0mbrain_imaging_indices\u001b[0m\u001b[1;33m)\u001b[0m\u001b[1;33m)\u001b[0m\u001b[1;33m\u001b[0m\u001b[1;33m\u001b[0m\u001b[0m\n\u001b[0m\u001b[0;32m      2\u001b[0m \u001b[0mprint\u001b[0m\u001b[1;33m(\u001b[0m\u001b[0mbehavior_frames\u001b[0m\u001b[1;33m.\u001b[0m\u001b[0mshape\u001b[0m\u001b[1;33m)\u001b[0m\u001b[1;33m\u001b[0m\u001b[1;33m\u001b[0m\u001b[0m\n\u001b[0;32m      3\u001b[0m \u001b[0mprint\u001b[0m\u001b[1;33m(\u001b[0m\u001b[0ml_mouse_green_by_blue\u001b[0m\u001b[1;33m.\u001b[0m\u001b[0mshape\u001b[0m\u001b[1;33m)\u001b[0m\u001b[1;33m\u001b[0m\u001b[1;33m\u001b[0m\u001b[0m\n\u001b[0;32m      4\u001b[0m \u001b[1;33m\u001b[0m\u001b[0m\n\u001b[0;32m      5\u001b[0m \u001b[0mplt\u001b[0m\u001b[1;33m.\u001b[0m\u001b[0mfigure\u001b[0m\u001b[1;33m(\u001b[0m\u001b[1;33m)\u001b[0m\u001b[1;33m\u001b[0m\u001b[1;33m\u001b[0m\u001b[0m\n",
      "\u001b[1;31mNameError\u001b[0m: name 'brain_imaging_indices' is not defined"
     ]
    }
   ],
   "source": [
    "print(np.shape(brain_imaging_indices))\n",
    "print(behavior_frames.shape)\n",
    "print(l_mouse_green_by_blue.shape)\n",
    "\n",
    "plt.figure()\n",
    "plt.imshow(behavior_frames[1,:,:])"
   ]
  },
  {
   "cell_type": "code",
   "execution_count": 385,
   "metadata": {},
   "outputs": [
    {
     "name": "stdout",
     "output_type": "stream",
     "text": [
      "Saved as MIJ3L_MIQ2R_July-21_1640_experiment-12_non-cage_mates_interpolated.raw\n"
     ]
    }
   ],
   "source": [
    "behavior_frames_fname = res.saveas(\n",
    "    path=EXP_3,\n",
    "    f_out=behavior_frames,\n",
    "    f_in=filename,\n",
    "    dirname=\"Behaviour\",\n",
    "    suffix=\"interpolated\",\n",
    "    ftype=\"raw\",\n",
    "    dtype=\"uint8\",\n",
    "    save=True\n",
    ")"
   ]
  },
  {
   "cell_type": "markdown",
   "metadata": {},
   "source": [
    "## Save video of brain activity plus behavior"
   ]
  },
  {
   "cell_type": "code",
   "execution_count": 98,
   "metadata": {},
   "outputs": [
    {
     "name": "stdout",
     "output_type": "stream",
     "text": [
      "12084.0\n",
      "12074.0\n"
     ]
    }
   ],
   "source": [
    "%matplotlib qt\n",
    "\n",
    "\n",
    "mask_left = vp.draw_mask(frame_left)\n",
    "mask_right = vp.draw_mask(frame_right)\n",
    "\n"
   ]
  },
  {
   "cell_type": "code",
   "execution_count": 100,
   "metadata": {},
   "outputs": [],
   "source": [
    "l_mouse_green_frames[:, ~mask_left] = -100\n",
    "r_mouse_green_frames[:, ~mask_right] = -100"
   ]
  },
  {
   "cell_type": "code",
   "execution_count": 101,
   "metadata": {},
   "outputs": [
    {
     "name": "stdout",
     "output_type": "stream",
     "text": [
      "Writing frames...\n",
      "Done!\n"
     ]
    }
   ],
   "source": [
    "import matplotlib.animation as manimation\n",
    "FFMpegWriter = manimation.writers['ffmpeg']\n",
    "\n",
    "\n",
    "# Generate file name for video; create placeholder array - f_out cannot be empty \n",
    "activity_behaviour = res.saveas(\n",
    "    f_out=np.array([\"placeholder\"]),\n",
    "    suffix=\"activity_and_behaviour_dff0\",\n",
    "    ftype=\"mp4\",\n",
    "    f_in=l_mouse,\n",
    ")\n",
    "\n",
    "metadata = dict(\n",
    "    title=EXP_3, artist=\"Fed\", comment=\"10Hz_playback\"\n",
    ")\n",
    "writer = FFMpegWriter(fps=30, metadata=metadata, bitrate=6000)\n",
    "fig = plt.figure(figsize=(10, 10))\n",
    "fig.suptitle(\"The Signals for:\\n\"+l_mouse+\"\\n\"+\"_\"+\"\\n\")\n",
    "\n",
    "lax1 = fig.add_subplot(2, 2, 1)\n",
    "#lax1.set_title(r\"Left Mouse: $\\frac{\\Delta F_g/F_{0g}}{1+\\Delta F_b/F_{0b}}$\")\n",
    "lax1.set_title(r\"Left Mouse: $\\frac{\\Delta F_g}{F_{0g}}$\")\n",
    "lax1.get_yaxis().set_visible(False)\n",
    "lax1.get_xaxis().set_visible(False)\n",
    "lim_gb = lax1.imshow(l_mouse_green_by_blue[0], cmap='viridis', vmin=-0.2, vmax=0.2)\n",
    "cbar1 = fig.colorbar(lim_gb)\n",
    "\n",
    "rax1 = fig.add_subplot(2, 2, 2)\n",
    "#rax1.set_title(r\"Right Mouse: $\\frac{\\Delta F_g/F_{0g}}{1+\\Delta F_b/F_{0b}}$\")\n",
    "rax1.set_title(r\"Right Mouse: $\\frac{\\Delta F_g}{F_{0g}}$\")\n",
    "rax1.get_yaxis().set_visible(False)\n",
    "rax1.get_xaxis().set_visible(False)\n",
    "rim_gb = rax1.imshow(r_mouse_green_by_blue[0], cmap='viridis', vmin=-0.2, vmax=0.2)\n",
    "cbar2 = fig.colorbar(rim_gb)\n",
    "\n",
    "ax3 = fig.add_subplot(2, 1, 2)\n",
    "ax3.set_title(\"Behaviour Video\")\n",
    "ax3.get_yaxis().set_visible(False)\n",
    "ax3.get_xaxis().set_visible(False)\n",
    "im_beh = ax3.imshow(behavior_frames[0], cmap='gray', vmin=0, vmax=255)\n",
    "\n",
    "#!!!\n",
    "print(\"Writing frames...\")\n",
    "with writer.saving(\n",
    "    fig, outfile=EXP_3 + \"\\\\\" + activity_behaviour, dpi=100\n",
    "):\n",
    "    for i in range(3000, 5000): #range(l_mouse_green_frames.shape[0]):\n",
    "        # Set title\n",
    "        current_time = np.round(float(i)/TRUE_FRAMERATE, 3)\n",
    "        fig.suptitle(r\"uncorrected $Ca^{2+}$ activity and Behaviour Video:\\n\"\\\n",
    "                     +l_mouse+\"\\n\"+\\\n",
    "                    \"_\"+\"\\n\"+\\\n",
    "                     \"Current Frame: \"+\"{:5d}\".format(i)+\" Current Time: \"+\"{:4.3f}\".format(current_time)+\" seconds\")\n",
    "        \n",
    "\n",
    "        lim_gb.set_data(l_mouse_green_frames[i])\n",
    "        \n",
    "        rim_gb.set_data(r_mouse_green_frames[i])\n",
    "        \n",
    "        im_beh.set_data(behavior_frames[i])\n",
    "\n",
    "        writer.grab_frame()\n",
    "\n",
    "print(\"Done!\")"
   ]
  },
  {
   "cell_type": "markdown",
   "metadata": {},
   "source": [
    "## Stim Averaging"
   ]
  },
  {
   "cell_type": "code",
   "execution_count": 92,
   "metadata": {
    "pycharm": {
     "name": "#%%\n"
    }
   },
   "outputs": [
    {
     "name": "stdout",
     "output_type": "stream",
     "text": [
      "B:\\Dual\\20190729\\Experiment_1\n"
     ]
    }
   ],
   "source": [
    "print(EXP_3)"
   ]
  },
  {
   "cell_type": "code",
   "execution_count": 54,
   "metadata": {},
   "outputs": [
    {
     "name": "stdout",
     "output_type": "stream",
     "text": [
      "B:\\Dual\\20190729\\Experiment_2\n"
     ]
    }
   ],
   "source": []
  },
  {
   "cell_type": "code",
   "execution_count": null,
   "metadata": {},
   "outputs": [],
   "source": []
  }
 ],
 "metadata": {
  "kernelspec": {
   "display_name": "Python 3",
   "language": "python",
   "name": "python3"
  },
  "language_info": {
   "codemirror_mode": {
    "name": "ipython",
    "version": 3
   },
   "file_extension": ".py",
   "mimetype": "text/x-python",
   "name": "python",
   "nbconvert_exporter": "python",
   "pygments_lexer": "ipython3",
   "version": "3.7.3"
  },
  "pycharm": {
   "stem_cell": {
    "cell_type": "raw",
    "metadata": {
     "collapsed": false
    },
    "source": []
   }
  }
 },
 "nbformat": 4,
 "nbformat_minor": 2
}
